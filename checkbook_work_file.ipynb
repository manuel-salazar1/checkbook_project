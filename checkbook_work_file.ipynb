{
 "cells": [
  {
   "cell_type": "code",
   "execution_count": 27,
   "id": "b26f08b1",
   "metadata": {},
   "outputs": [],
   "source": [
    "import os\n",
    "import subprocess"
   ]
  },
  {
   "cell_type": "code",
   "execution_count": 28,
   "id": "715168c6",
   "metadata": {},
   "outputs": [
    {
     "data": {
      "text/plain": [
       "['trust_bank.txt',\n",
       " 'trust_bank.py',\n",
       " 'checkbook_work_file.ipynb',\n",
       " '.ipynb_checkpoints',\n",
       " '.git']"
      ]
     },
     "execution_count": 28,
     "metadata": {},
     "output_type": "execute_result"
    }
   ],
   "source": [
    "os.listdir()"
   ]
  },
  {
   "cell_type": "code",
   "execution_count": null,
   "id": "13465dea",
   "metadata": {},
   "outputs": [],
   "source": []
  },
  {
   "cell_type": "code",
   "execution_count": 25,
   "id": "0b9063f1",
   "metadata": {},
   "outputs": [],
   "source": [
    "print(\"-\")\n",
    "print(\"Welcome to A Bank You Can Trust!\")\n",
    "print(\"-\")\n",
    "\n",
    "while True:\n",
    "    username = input(\"Enter your 4 digit pin: \")\n",
    "    if len(username) == 4 and username.isdigit():\n",
    "        break\n",
    "    else:\n",
    "        print(\"Invalid entry. Please enter 4 digit pin.\")\n",
    "        \n",
    "while True:\n",
    "    print(\"\"\"\n",
    "    Available Options Below:\n",
    "    1) check current balance\n",
    "    2) record a credit(deposit)\n",
    "    3) record a debit(withdrawal)\n",
    "    4) exit\n",
    "    \"\"\")\n",
    "    \n",
    "    while True:\n",
    "        user_option = input(\"What Would You Like To Do Today? \")\n",
    "        if user_option == \"1\":\n",
    "            account_balance()\n",
    "        elif user_option == \"2\":\n",
    "            deposit()\n",
    "        elif user_option == \"3\":\n",
    "            withdrawal()\n",
    "        elif user_option == \"4\":\n",
    "            exit_program()\n",
    "            print(\"Thank you for trusting A Bank You Can Trust!\")\n",
    "        else:\n",
    "            print(\"Invalid Entry\")\n",
    "  \n"
   ]
  },
  {
   "cell_type": "code",
   "execution_count": 21,
   "id": "3277fa50",
   "metadata": {},
   "outputs": [],
   "source": [
    "#Define the function for each action\n",
    "def account_balance():\n",
    "    with open('trust_bank.txt','r') as t: #open text file in read only mode\n",
    "        balance = float(t.read())\n",
    "    print(f'Your current balance is: $ {balance}')"
   ]
  },
  {
   "cell_type": "code",
   "execution_count": 23,
   "id": "25eb7a6a",
   "metadata": {},
   "outputs": [],
   "source": [
    "def withdrawal(): #add_debit\n",
    "    amount = input('Enter the amount to withdraw: ') #user will enter a number to withdrawal\n",
    "    if not amount.isnumeric(): #checking for number input\n",
    "        print('Invalid input. Please enter a positive number.')\n",
    "        withdrawal()\n",
    "        return\n",
    "    amount = float(amount) #turns the input string into a number float\n",
    "    if amount < 0: #checking if number is less than 0\n",
    "        print('Invalid input. Cannot Withdraw Negative Amount.')\n",
    "        withdrawal()\n",
    "        return\n",
    "    with open('trust_bank.txt','r') as t: #opens text file in read only. t is alias for this txt file\n",
    "        balance = float(t.read()) #converts txt string to number float\n",
    "    if amount > balance: #checking if amt entered is more than the current balance\n",
    "        print('Insufficient Funds.')\n",
    "        return\n",
    "    balance -= amount #if all conditions are met above, will subtract amount from balance\n",
    "    with open('trust_bank.txt','w') as t: #opens text file in write mode\n",
    "        t.write(str(balance)) #will write over previous balance and save in text file\n",
    "    print(f'Withdrawal successful. Your new balance is: $ {balance}')"
   ]
  },
  {
   "cell_type": "code",
   "execution_count": 22,
   "id": "1a27dd3d",
   "metadata": {},
   "outputs": [],
   "source": [
    "def deposit(): #add_credit\n",
    "    amount = input('Enter the amount to deposit: ') #user will enter a number to deposit\n",
    "    if not amount.isnumeric(): #checking for number input\n",
    "        print('Invalid input. Please enter a positive number.')\n",
    "        deposit()\n",
    "        return\n",
    "    amount = float(amount) #turns the input string into a number float\n",
    "    if amount < 0: #checking if number is less than 0\n",
    "        print('Invalid input. Cannot Deposit Negative Amount.')\n",
    "        deposit()\n",
    "        return\n",
    "    with open('trust_bank.txt','r') as t: #opens text file in read only. t is alias for this txt file\n",
    "        balance = float(t.read()) #converts txt string to number float\n",
    "    balance += amount #if all conditions are met above, will subtract amount from balance\n",
    "    with open('trust_bank.txt','w') as t: #opens text file in write mode\n",
    "        t.write(str(balance)) #will write over previous balance and save in text file\n",
    "    print(f'Deposit successful. Your new balance is: $ {balance}')"
   ]
  },
  {
   "cell_type": "code",
   "execution_count": 32,
   "id": "2d5661c4",
   "metadata": {},
   "outputs": [],
   "source": [
    "def exit_program():\n",
    "    global active_program\n",
    "    active_program = False"
   ]
  },
  {
   "cell_type": "code",
   "execution_count": 31,
   "id": "81a4a700",
   "metadata": {},
   "outputs": [],
   "source": []
  },
  {
   "cell_type": "code",
   "execution_count": null,
   "id": "0d6e726e",
   "metadata": {},
   "outputs": [],
   "source": []
  }
 ],
 "metadata": {
  "kernelspec": {
   "display_name": "Python 3 (ipykernel)",
   "language": "python",
   "name": "python3"
  },
  "language_info": {
   "codemirror_mode": {
    "name": "ipython",
    "version": 3
   },
   "file_extension": ".py",
   "mimetype": "text/x-python",
   "name": "python",
   "nbconvert_exporter": "python",
   "pygments_lexer": "ipython3",
   "version": "3.9.13"
  }
 },
 "nbformat": 4,
 "nbformat_minor": 5
}
